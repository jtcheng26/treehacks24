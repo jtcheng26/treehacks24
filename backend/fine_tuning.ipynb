{
 "cells": [
  {
   "cell_type": "code",
   "execution_count": 1,
   "metadata": {},
   "outputs": [
    {
     "name": "stderr",
     "output_type": "stream",
     "text": [
      "/Users/kingsleyzhong/Documents/treehacks24/.venv/lib/python3.9/site-packages/urllib3/__init__.py:35: NotOpenSSLWarning: urllib3 v2 only supports OpenSSL 1.1.1+, currently the 'ssl' module is compiled with 'LibreSSL 2.8.3'. See: https://github.com/urllib3/urllib3/issues/3020\n",
      "  warnings.warn(\n",
      "/Users/kingsleyzhong/Documents/treehacks24/.venv/lib/python3.9/site-packages/tqdm/auto.py:21: TqdmWarning: IProgress not found. Please update jupyter and ipywidgets. See https://ipywidgets.readthedocs.io/en/stable/user_install.html\n",
      "  from .autonotebook import tqdm as notebook_tqdm\n",
      "Downloading readme: 100%|██████████| 254/254 [00:00<00:00, 573kB/s]\n",
      "Downloading data: 100%|██████████| 2.24M/2.24M [00:00<00:00, 4.83MB/s]\n",
      "Generating train split: 1023 examples [00:00, 94435.54 examples/s]\n"
     ]
    }
   ],
   "source": [
    "from datasets import load_dataset\n",
    "\n",
    "dataset = load_dataset(\"mediciresearch/manimation\")"
   ]
  },
  {
   "cell_type": "code",
   "execution_count": 13,
   "metadata": {},
   "outputs": [],
   "source": [
    "data1 = dataset[\"train\"].to_list()\n",
    "\n",
    "cur = data1[0][\"text\"]"
   ]
  },
  {
   "cell_type": "code",
   "execution_count": 31,
   "metadata": {},
   "outputs": [],
   "source": [
    "dataset2 = load_dataset(\"Edoh/manim_python\")\n",
    "data2 = dataset2[\"train\"].to_list()"
   ]
  },
  {
   "cell_type": "code",
   "execution_count": 34,
   "metadata": {},
   "outputs": [],
   "source": [
    "combined_data = []\n",
    "\n",
    "for cur in data1:\n",
    "    cur = cur[\"text\"]\n",
    "    query = cur.split(\"request:\")[1].split(\"[/INST]\")[0].strip()\n",
    "    answer = (\n",
    "        cur.split(\"[/INST]\")[1].strip().replace(\"</s>\", \"\").replace(\"<s>\", \"\").strip()\n",
    "    )\n",
    "\n",
    "    combined_data.append({\"query\": query, \"answer\": answer})\n",
    "\n",
    "for cur in data2:\n",
    "    combined_data.append({\"query\": cur[\"instruction\"], \"answer\": cur[\"output\"]})"
   ]
  },
  {
   "cell_type": "code",
   "execution_count": null,
   "metadata": {},
   "outputs": [],
   "source": [
    "import json\n",
    "\n",
    "with open(\"combined_data.json\", \"w\") as f:\n",
    "    json.dump(combined_data, f, indent=4)"
   ]
  }
 ],
 "metadata": {
  "kernelspec": {
   "display_name": ".venv",
   "language": "python",
   "name": "python3"
  },
  "language_info": {
   "codemirror_mode": {
    "name": "ipython",
    "version": 3
   },
   "file_extension": ".py",
   "mimetype": "text/x-python",
   "name": "python",
   "nbconvert_exporter": "python",
   "pygments_lexer": "ipython3",
   "version": "3.9.6"
  }
 },
 "nbformat": 4,
 "nbformat_minor": 2
}
