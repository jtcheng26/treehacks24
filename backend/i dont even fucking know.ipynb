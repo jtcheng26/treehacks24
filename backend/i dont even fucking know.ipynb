{
 "cells": [
  {
   "cell_type": "code",
   "execution_count": 2,
   "metadata": {},
   "outputs": [],
   "source": [
    "import subprocess\n",
    "import pathlib"
   ]
  },
  {
   "cell_type": "code",
   "execution_count": null,
   "metadata": {},
   "outputs": [],
   "source": []
  },
  {
   "cell_type": "code",
   "execution_count": 8,
   "metadata": {},
   "outputs": [
    {
     "data": {
      "text/plain": [
       "'manim scene_code/scene_idk.py -ql -o /Users/kingsleyzhong/Documents/treehacks24/backend/scene_code/scene_idk'"
      ]
     },
     "execution_count": 8,
     "metadata": {},
     "output_type": "execute_result"
    }
   ],
   "source": [
    "item_id = \"idk\"\n",
    "\n",
    "command = [\n",
    "    \"manim\",\n",
    "    f\"scene_code/scene_{item_id}.py\",\n",
    "    \"-ql\",\n",
    "    \"-o\",\n",
    "    str(pathlib.Path.cwd() / \"scene_code\" / f\"scene_{item_id}\"),\n",
    "]"
   ]
  },
  {
   "cell_type": "code",
   "execution_count": 14,
   "metadata": {},
   "outputs": [
    {
     "data": {
      "text/plain": [
       "\"Manim Community \\x1b[32mv0.\\x1b[0m\\x1b[32m18.0\\x1b[0m\\n\\n\\x1b[2;36m[02/18/24 02:05:24]\\x1b[0m\\x1b[2;36m \\x1b[0m\\x1b[32mINFO    \\x1b[0m Animation \\x1b[32m0\\x1b[0m : Using cached     \\x1b]8;id=904648;file:///Users/kingsleyzhong/Documents/treehacks24/.venv/lib/python3.9/site-packages/manim/renderer/cairo_renderer.py\\x1b\\\\\\x1b[2mcairo_renderer.py\\x1b[0m\\x1b]8;;\\x1b\\\\\\x1b[2m:\\x1b[0m\\x1b]8;id=147073;file:///Users/kingsleyzhong/Documents/treehacks24/.venv/lib/python3.9/site-packages/manim/renderer/cairo_renderer.py#78\\x1b\\\\\\x1b[2m78\\x1b[0m\\x1b]8;;\\x1b\\\\\\n\\x1b[2;36m                    \\x1b[0m         data \\x1b[1m(\\x1b[0mhash :                   \\x1b[2m                    \\x1b[0m\\n\\x1b[2;36m                    \\x1b[0m         1185818338_1307872920_22313245 \\x1b[2m                    \\x1b[0m\\n\\x1b[2;36m                    \\x1b[0m         7\\x1b[1m)\\x1b[0m                             \\x1b[2m                    \\x1b[0m\\n\\x1b[2;36m                   \\x1b[0m\\x1b[2;36m \\x1b[0m\\x1b[32mINFO    \\x1b[0m Animation \\x1b[32m1\\x1b[0m : Using cached     \\x1b]8;id=152761;file:///Users/kingsleyzhong/Documents/treehacks24/.venv/lib/python3.9/site-packages/manim/renderer/cairo_renderer.py\\x1b\\\\\\x1b[2mcairo_renderer.py\\x1b[0m\\x1b]8;;\\x1b\\\\\\x1b[2m:\\x1b[0m\\x1b]8;id=787772;file:///Users/kingsleyzhong/Documents/treehacks24/.venv/lib/python3.9/site-packages/manim/renderer/cairo_renderer.py#78\\x1b\\\\\\x1b[2m78\\x1b[0m\\x1b]8;;\\x1b\\\\\\n\\x1b[2;36m                    \\x1b[0m         data \\x1b[1m(\\x1b[0mhash :                   \\x1b[2m                    \\x1b[0m\\n\\x1b[2;36m                    \\x1b[0m         624642324_2893369729_791606747 \\x1b[2m                    \\x1b[0m\\n\\x1b[2;36m                    \\x1b[0m         \\x1b[1m)\\x1b[0m                              \\x1b[2m                    \\x1b[0m\\n\\x1b[2;36m                   \\x1b[0m\\x1b[2;36m \\x1b[0m\\x1b[32mINFO    \\x1b[0m Animation \\x1b[32m2\\x1b[0m : Using cached     \\x1b]8;id=396812;file:///Users/kingsleyzhong/Documents/treehacks24/.venv/lib/python3.9/site-packages/manim/renderer/cairo_renderer.py\\x1b\\\\\\x1b[2mcairo_renderer.py\\x1b[0m\\x1b]8;;\\x1b\\\\\\x1b[2m:\\x1b[0m\\x1b]8;id=922710;file:///Users/kingsleyzhong/Documents/treehacks24/.venv/lib/python3.9/site-packages/manim/renderer/cairo_renderer.py#78\\x1b\\\\\\x1b[2m78\\x1b[0m\\x1b]8;;\\x1b\\\\\\n\\x1b[2;36m                    \\x1b[0m         data \\x1b[1m(\\x1b[0mhash :                   \\x1b[2m                    \\x1b[0m\\n\\x1b[2;36m                    \\x1b[0m         624642324_2919340033_383500877 \\x1b[2m                    \\x1b[0m\\n\\x1b[2;36m                    \\x1b[0m         3\\x1b[1m)\\x1b[0m                             \\x1b[2m                    \\x1b[0m\\n\\x1b[2;36m                   \\x1b[0m\\x1b[2;36m \\x1b[0m\\x1b[32mINFO    \\x1b[0m Animation \\x1b[32m3\\x1b[0m : Using cached     \\x1b]8;id=634347;file:///Users/kingsleyzhong/Documents/treehacks24/.venv/lib/python3.9/site-packages/manim/renderer/cairo_renderer.py\\x1b\\\\\\x1b[2mcairo_renderer.py\\x1b[0m\\x1b]8;;\\x1b\\\\\\x1b[2m:\\x1b[0m\\x1b]8;id=952940;file:///Users/kingsleyzhong/Documents/treehacks24/.venv/lib/python3.9/site-packages/manim/renderer/cairo_renderer.py#78\\x1b\\\\\\x1b[2m78\\x1b[0m\\x1b]8;;\\x1b\\\\\\n\\x1b[2;36m                    \\x1b[0m         data \\x1b[1m(\\x1b[0mhash :                   \\x1b[2m                    \\x1b[0m\\n\\x1b[2;36m                    \\x1b[0m         624642324_2427488760_552736562 \\x1b[2m                    \\x1b[0m\\n\\x1b[2;36m                    \\x1b[0m         \\x1b[1m)\\x1b[0m                              \\x1b[2m                    \\x1b[0m\\n\\x1b[2;36m                   \\x1b[0m\\x1b[2;36m \\x1b[0m\\x1b[32mINFO    \\x1b[0m Animation \\x1b[32m4\\x1b[0m : Using cached     \\x1b]8;id=153973;file:///Users/kingsleyzhong/Documents/treehacks24/.venv/lib/python3.9/site-packages/manim/renderer/cairo_renderer.py\\x1b\\\\\\x1b[2mcairo_renderer.py\\x1b[0m\\x1b]8;;\\x1b\\\\\\x1b[2m:\\x1b[0m\\x1b]8;id=406343;file:///Users/kingsleyzhong/Documents/treehacks24/.venv/lib/python3.9/site-packages/manim/renderer/cairo_renderer.py#78\\x1b\\\\\\x1b[2m78\\x1b[0m\\x1b]8;;\\x1b\\\\\\n\\x1b[2;36m                    \\x1b[0m         data \\x1b[1m(\\x1b[0mhash :                   \\x1b[2m                    \\x1b[0m\\n\\x1b[2;36m                    \\x1b[0m         624642324_2919340033_540967045 \\x1b[2m                    \\x1b[0m\\n\\x1b[2;36m                    \\x1b[0m         \\x1b[1m)\\x1b[0m                              \\x1b[2m                    \\x1b[0m\\n\\x1b[2;36m                   \\x1b[0m\\x1b[2;36m \\x1b[0m\\x1b[32mINFO    \\x1b[0m Animation \\x1b[32m5\\x1b[0m : Using cached     \\x1b]8;id=601505;file:///Users/kingsleyzhong/Documents/treehacks24/.venv/lib/python3.9/site-packages/manim/renderer/cairo_renderer.py\\x1b\\\\\\x1b[2mcairo_renderer.py\\x1b[0m\\x1b]8;;\\x1b\\\\\\x1b[2m:\\x1b[0m\\x1b]8;id=196683;file:///Users/kingsleyzhong/Documents/treehacks24/.venv/lib/python3.9/site-packages/manim/renderer/cairo_renderer.py#78\\x1b\\\\\\x1b[2m78\\x1b[0m\\x1b]8;;\\x1b\\\\\\n\\x1b[2;36m                    \\x1b[0m         data \\x1b[1m(\\x1b[0mhash :                   \\x1b[2m                    \\x1b[0m\\n\\x1b[2;36m                    \\x1b[0m         624642324_487269325_1052897500 \\x1b[2m                    \\x1b[0m\\n\\x1b[2;36m                    \\x1b[0m         \\x1b[1m)\\x1b[0m                              \\x1b[2m                    \\x1b[0m\\n\\x1b[2;36m                   \\x1b[0m\\x1b[2;36m \\x1b[0m\\x1b[32mINFO    \\x1b[0m Animation \\x1b[32m6\\x1b[0m : Using cached     \\x1b]8;id=540947;file:///Users/kingsleyzhong/Documents/treehacks24/.venv/lib/python3.9/site-packages/manim/renderer/cairo_renderer.py\\x1b\\\\\\x1b[2mcairo_renderer.py\\x1b[0m\\x1b]8;;\\x1b\\\\\\x1b[2m:\\x1b[0m\\x1b]8;id=379470;file:///Users/kingsleyzhong/Documents/treehacks24/.venv/lib/python3.9/site-packages/manim/renderer/cairo_renderer.py#78\\x1b\\\\\\x1b[2m78\\x1b[0m\\x1b]8;;\\x1b\\\\\\n\\x1b[2;36m                    \\x1b[0m         data \\x1b[1m(\\x1b[0mhash :                   \\x1b[2m                    \\x1b[0m\\n\\x1b[2;36m                    \\x1b[0m         624642324_2919340033_336017716 \\x1b[2m                    \\x1b[0m\\n\\x1b[2;36m                    \\x1b[0m         5\\x1b[1m)\\x1b[0m                             \\x1b[2m                    \\x1b[0m\\n\\x1b[2;36m                   \\x1b[0m\\x1b[2;36m \\x1b[0m\\x1b[32mINFO    \\x1b[0m Combining to Movie file.   \\x1b]8;id=314109;file:///Users/kingsleyzhong/Documents/treehacks24/.venv/lib/python3.9/site-packages/manim/scene/scene_file_writer.py\\x1b\\\\\\x1b[2mscene_file_writer.py\\x1b[0m\\x1b]8;;\\x1b\\\\\\x1b[2m:\\x1b[0m\\x1b]8;id=232498;file:///Users/kingsleyzhong/Documents/treehacks24/.venv/lib/python3.9/site-packages/manim/scene/scene_file_writer.py#617\\x1b\\\\\\x1b[2m617\\x1b[0m\\x1b]8;;\\x1b\\\\\\n\\x1b[2;36m[02/18/24 02:05:25]\\x1b[0m\\x1b[2;36m \\x1b[0m\\x1b[32mINFO    \\x1b[0m                            \\x1b]8;id=274163;file:///Users/kingsleyzhong/Documents/treehacks24/.venv/lib/python3.9/site-packages/manim/scene/scene_file_writer.py\\x1b\\\\\\x1b[2mscene_file_writer.py\\x1b[0m\\x1b]8;;\\x1b\\\\\\x1b[2m:\\x1b[0m\\x1b]8;id=502912;file:///Users/kingsleyzhong/Documents/treehacks24/.venv/lib/python3.9/site-packages/manim/scene/scene_file_writer.py#735\\x1b\\\\\\x1b[2m735\\x1b[0m\\x1b]8;;\\x1b\\\\\\n\\x1b[2;36m                    \\x1b[0m         \\x1b[1;33mFile\\x1b[0m ready at              \\x1b[2m                        \\x1b[0m\\n\\x1b[2;36m                    \\x1b[0m         \\x1b[32m'/Users/kingsleyzhong/Docu\\x1b[0m \\x1b[2m                        \\x1b[0m\\n\\x1b[2;36m                    \\x1b[0m         \\x1b[32mments/treehacks24/backend/\\x1b[0m \\x1b[2m                        \\x1b[0m\\n\\x1b[2;36m                    \\x1b[0m         \\x1b[1;33mscene\\x1b[0m\\x1b[32m_code/\\x1b[0m\\x1b[1;33mscene\\x1b[0m\\x1b[32m_idk.mp4'\\x1b[0m  \\x1b[2m                        \\x1b[0m\\n\\x1b[2;36m                    \\x1b[0m                                    \\x1b[2m                        \\x1b[0m\\n\\x1b[2;36m                   \\x1b[0m\\x1b[2;36m \\x1b[0m\\x1b[32mINFO    \\x1b[0m \\x1b[1;33mRendered\\x1b[0m MatrixVectorMultiplication    \\x1b]8;id=621323;file:///Users/kingsleyzhong/Documents/treehacks24/.venv/lib/python3.9/site-packages/manim/scene/scene.py\\x1b\\\\\\x1b[2mscene.py\\x1b[0m\\x1b]8;;\\x1b\\\\\\x1b[2m:\\x1b[0m\\x1b]8;id=949560;file:///Users/kingsleyzhong/Documents/treehacks24/.venv/lib/python3.9/site-packages/manim/scene/scene.py#241\\x1b\\\\\\x1b[2m241\\x1b[0m\\x1b]8;;\\x1b\\\\\\n\\x1b[2;36m                    \\x1b[0m         \\x1b[1;33mPlayed\\x1b[0m \\x1b[32m7\\x1b[0m \\x1b[1;33manimations\\x1b[0m                    \\x1b[2m            \\x1b[0m\\n\""
      ]
     },
     "execution_count": 14,
     "metadata": {},
     "output_type": "execute_result"
    }
   ],
   "source": []
  },
  {
   "cell_type": "code",
   "execution_count": 15,
   "metadata": {},
   "outputs": [
    {
     "name": "stdout",
     "output_type": "stream",
     "text": [
      "new\n",
      "what\n",
      "Manim Community \u001b[32mv0.\u001b[0m\u001b[32m18.0\u001b[0m\n",
      "\n",
      "\n",
      "done\n"
     ]
    }
   ],
   "source": [
    "try:\n",
    "    print(\"new\")\n",
    "    result = subprocess.run(command, check=True, capture_output=True, text=True)\n",
    "    print(\"what\")\n",
    "    print(result.stdout)\n",
    "except subprocess.CalledProcessError as e:\n",
    "    print(\"Error: \", e)\n",
    "    print(e.stderr)\n",
    "    print(\"llll\")\n",
    "# todo: deal with what happens when it errors out\n",
    "\n",
    "print(\"done\")"
   ]
  }
 ],
 "metadata": {
  "kernelspec": {
   "display_name": ".venv",
   "language": "python",
   "name": "python3"
  },
  "language_info": {
   "codemirror_mode": {
    "name": "ipython",
    "version": 3
   },
   "file_extension": ".py",
   "mimetype": "text/x-python",
   "name": "python",
   "nbconvert_exporter": "python",
   "pygments_lexer": "ipython3",
   "version": "3.9.6"
  }
 },
 "nbformat": 4,
 "nbformat_minor": 2
}
