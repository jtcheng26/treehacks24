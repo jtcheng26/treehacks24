{
 "cells": [
  {
   "cell_type": "code",
   "execution_count": 1,
   "metadata": {},
   "outputs": [
    {
     "name": "stdout",
     "output_type": "stream",
     "text": [
      "Collecting monsterapi==1.0.2b3\n",
      "  Downloading monsterapi-1.0.2b3-py3-none-any.whl.metadata (4.2 kB)\n",
      "Requirement already satisfied: requests in /Users/kingsleyzhong/Documents/treehacks24/.venv/lib/python3.9/site-packages (from monsterapi==1.0.2b3) (2.31.0)\n",
      "Collecting requests-toolbelt (from monsterapi==1.0.2b3)\n",
      "  Downloading requests_toolbelt-1.0.0-py2.py3-none-any.whl.metadata (14 kB)\n",
      "Requirement already satisfied: pydantic in /Users/kingsleyzhong/Documents/treehacks24/.venv/lib/python3.9/site-packages (from monsterapi==1.0.2b3) (2.6.1)\n",
      "Requirement already satisfied: annotated-types>=0.4.0 in /Users/kingsleyzhong/Documents/treehacks24/.venv/lib/python3.9/site-packages (from pydantic->monsterapi==1.0.2b3) (0.6.0)\n",
      "Requirement already satisfied: pydantic-core==2.16.2 in /Users/kingsleyzhong/Documents/treehacks24/.venv/lib/python3.9/site-packages (from pydantic->monsterapi==1.0.2b3) (2.16.2)\n",
      "Requirement already satisfied: typing-extensions>=4.6.1 in /Users/kingsleyzhong/Documents/treehacks24/.venv/lib/python3.9/site-packages (from pydantic->monsterapi==1.0.2b3) (4.9.0)\n",
      "Requirement already satisfied: charset-normalizer<4,>=2 in /Users/kingsleyzhong/Documents/treehacks24/.venv/lib/python3.9/site-packages (from requests->monsterapi==1.0.2b3) (3.3.2)\n",
      "Requirement already satisfied: idna<4,>=2.5 in /Users/kingsleyzhong/Documents/treehacks24/.venv/lib/python3.9/site-packages (from requests->monsterapi==1.0.2b3) (3.6)\n",
      "Requirement already satisfied: urllib3<3,>=1.21.1 in /Users/kingsleyzhong/Documents/treehacks24/.venv/lib/python3.9/site-packages (from requests->monsterapi==1.0.2b3) (2.2.0)\n",
      "Requirement already satisfied: certifi>=2017.4.17 in /Users/kingsleyzhong/Documents/treehacks24/.venv/lib/python3.9/site-packages (from requests->monsterapi==1.0.2b3) (2024.2.2)\n",
      "Downloading monsterapi-1.0.2b3-py3-none-any.whl (16 kB)\n",
      "Downloading requests_toolbelt-1.0.0-py2.py3-none-any.whl (54 kB)\n",
      "\u001b[2K   \u001b[90m━━━━━━━━━━━━━━━━━━━━━━━━━━━━━━━━━━━━━━━━\u001b[0m \u001b[32m54.5/54.5 kB\u001b[0m \u001b[31m1.5 MB/s\u001b[0m eta \u001b[36m0:00:00\u001b[0mta \u001b[36m0:00:01\u001b[0m\n",
      "\u001b[?25hInstalling collected packages: requests-toolbelt, monsterapi\n",
      "Successfully installed monsterapi-1.0.2b3 requests-toolbelt-1.0.0\n"
     ]
    }
   ],
   "source": [
    "!pip install monsterapi==1.0.2b3"
   ]
  },
  {
   "cell_type": "code",
   "execution_count": 2,
   "metadata": {},
   "outputs": [],
   "source": [
    "auth_token = \"b6a97d3b-35d0-4720-a44c-59ee33dbc25b\""
   ]
  },
  {
   "cell_type": "code",
   "execution_count": 3,
   "metadata": {},
   "outputs": [
    {
     "name": "stderr",
     "output_type": "stream",
     "text": [
      "/Users/kingsleyzhong/Documents/treehacks24/.venv/lib/python3.9/site-packages/urllib3/__init__.py:35: NotOpenSSLWarning: urllib3 v2 only supports OpenSSL 1.1.1+, currently the 'ssl' module is compiled with 'LibreSSL 2.8.3'. See: https://github.com/urllib3/urllib3/issues/3020\n",
      "  warnings.warn(\n"
     ]
    }
   ],
   "source": [
    "from monsterapi import client as mclient"
   ]
  },
  {
   "cell_type": "code",
   "execution_count": 7,
   "metadata": {},
   "outputs": [
    {
     "name": "stderr",
     "output_type": "stream",
     "text": [
      "/Users/kingsleyzhong/Documents/treehacks24/.venv/lib/python3.9/site-packages/urllib3/connectionpool.py:1103: InsecureRequestWarning: Unverified HTTPS request is being made to host 'de6f507c-7cbd-40c0-903a-63987f3866fe.monsterapi.ai'. Adding certificate verification is strongly advised. See: https://urllib3.readthedocs.io/en/latest/advanced-usage.html#tls-warnings\n",
      "  warnings.warn(\n"
     ]
    },
    {
     "name": "stdout",
     "output_type": "stream",
     "text": [
      "¡Hola! I'm just a computer program, so I don't have feelings, but I'm here and ready to help you with any questions you have about Spanish grammar or vocabulary. Is there something specific you'd like to know or practice? I'm here to help you improve your Spanish!\n",
      "\n",
      "¡Que tengas un buen día!\n",
      "\n",
      "(By the way, \"What's up?\" can be translated as \"¿Qué pasa?\" in Spanish.)\n"
     ]
    }
   ],
   "source": [
    "import json\n",
    "\n",
    "url = \"https://de6f507c-7cbd-40c0-903a-63987f3866fe.monsterapi.ai\"\n",
    "\n",
    "# assert status_ret.get(\"status\") == \"live\", \"Please wait until status is live!\"\n",
    "\n",
    "service_client = mclient(api_key=auth_token, base_url=url)\n",
    "\n",
    "payload = {\n",
    "    \"input_variables\": {\"prompt\": \"What's up?\"},\n",
    "    \"stream\": False,\n",
    "    \"temperature\": 0.7,\n",
    "    \"max_tokens\": 2048,\n",
    "}\n",
    "\n",
    "output = service_client.generate(model=\"deploy-llm\", data=payload)\n",
    "\n",
    "if payload.get(\"stream\"):\n",
    "    for i in output:\n",
    "        print(i[0])\n",
    "else:\n",
    "    print(json.loads(output)[\"text\"][0])"
   ]
  }
 ],
 "metadata": {
  "kernelspec": {
   "display_name": ".venv",
   "language": "python",
   "name": "python3"
  },
  "language_info": {
   "codemirror_mode": {
    "name": "ipython",
    "version": 3
   },
   "file_extension": ".py",
   "mimetype": "text/x-python",
   "name": "python",
   "nbconvert_exporter": "python",
   "pygments_lexer": "ipython3",
   "version": "3.9.6"
  }
 },
 "nbformat": 4,
 "nbformat_minor": 2
}
