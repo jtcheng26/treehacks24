{
 "cells": [
  {
   "cell_type": "code",
   "execution_count": 78,
   "metadata": {},
   "outputs": [],
   "source": [
    "import together\n",
    "import json\n",
    "import pprint as pp\n",
    "\n",
    "pprint = pp.PrettyPrinter(indent=3).pprint"
   ]
  },
  {
   "cell_type": "code",
   "execution_count": 79,
   "metadata": {},
   "outputs": [],
   "source": [
    "together.api_key = \"9fcd816a3e4499c7b604182d817edbf800dacf99e869d37fd1ce32f039350752\""
   ]
  },
  {
   "cell_type": "code",
   "execution_count": 80,
   "metadata": {},
   "outputs": [
    {
     "name": "stdout",
     "output_type": "stream",
     "text": [
      "<s> [INST] For an audience of a high school student, generate a series of frames to explain matrix vector multiplication  Each frame should be a single animation point, such as visualizing squaring number visually or adding a vector tip to tail. It should not take longer than 15 seconds.\n",
      "\n",
      "For example, explaining a vector addition would be:\n",
      "1. Frame showing 2 vectors from the origin explaining that these can be any arbitary vector\n",
      "2. Moving the second vector to the tip of the first vector and draw a resulting vector\n",
      "3. Showing vector addition numerically, adding each component numerically\n",
      "4. Explain a simple practical example of vector addition, how 2 forces can combine togehter into a larger force.\n",
      "\n",
      "Do not include a frame for a quiz. \n",
      "\n",
      "Each frame should come with a short description of what it will talk about. This is meant to be the storyboard for an animated video explaining this concept. \n",
      "\n",
      "Format the frames in a json format: \n",
      "\n",
      "[\n",
      "{\n",
      "\"title\": \"xxxx\",\n",
      "\"description\": \"xxxx\"\n",
      "},\n",
      "]\n",
      "\n",
      "The title should be short, limit of 5 words\n",
      "The description should be a few sentences, enough for someone to understand what to do and how to animate and explain this frame.\n",
      "\n",
      "Output only the json format of the frames. DO NOT INCUDE A PREABMBLE OR POSTAMBLE. [/INST]\n",
      "\n"
     ]
    }
   ],
   "source": [
    "prompt = \"\"\"<s> [INST] For an audience of a {}, generate a series of frames to explain {}  Each frame should be a single animation point, such as visualizing squaring number visually or adding a vector tip to tail. It should not take longer than 15 seconds.\n",
    "\n",
    "For example, explaining a vector addition would be:\n",
    "1. Frame showing 2 vectors from the origin explaining that these can be any arbitary vector\n",
    "2. Moving the second vector to the tip of the first vector and draw a resulting vector\n",
    "3. Showing vector addition numerically, adding each component numerically\n",
    "4. Explain a simple practical example of vector addition, how 2 forces can combine togehter into a larger force.\n",
    "\n",
    "Do not include a frame for a quiz. \n",
    "\n",
    "Each frame should come with a short description of what it will talk about. This is meant to be the storyboard for an animated video explaining this concept. \n",
    "\n",
    "Format the frames in a json format: \n",
    "\n",
    "[\n",
    "{{\n",
    "\"title\": \"xxxx\",\n",
    "\"description\": \"xxxx\"\n",
    "}},\n",
    "]\n",
    "\n",
    "The title should be short, limit of 5 words\n",
    "The description should be a few sentences, enough for someone to understand what to do and how to animate and explain this frame.\n",
    "\n",
    "Output only the json format of the frames. DO NOT INCUDE A PREABMBLE OR POSTAMBLE. [/INST]\n",
    "\"\"\"\n",
    "\n",
    "# .format(\n",
    "#     \"6th grade student\",\n",
    "#     \"pythagorean theorem\",\n",
    "# )\n",
    "MODEL = \"mistralai/Mixtral-8x7B-Instruct-v0.1\"\n",
    "\n",
    "audience = \"high school student\"\n",
    "concept = \"matrix vector multiplication\"\n",
    "\n",
    "formatted = prompt.format(audience, concept)\n",
    "\n",
    "print(formatted)"
   ]
  },
  {
   "cell_type": "code",
   "execution_count": 81,
   "metadata": {},
   "outputs": [],
   "source": [
    "output = together.Complete.create(\n",
    "    prompt=formatted,\n",
    "    model=MODEL,\n",
    "    max_tokens=2048,\n",
    "    temperature=0.7,\n",
    "    top_p=0.5,\n",
    "    top_k=50,\n",
    "    repetition_penalty=1.0,\n",
    "    stop=[\"</s>\"],\n",
    ")"
   ]
  },
  {
   "cell_type": "code",
   "execution_count": 55,
   "metadata": {},
   "outputs": [
    {
     "data": {
      "text/plain": [
       "{'id': '85722b6bbea22eaf-LAX',\n",
       " 'status': 'finished',\n",
       " 'prompt': ['<s> [INST] For an audience of a high school student, generate a series of frames to explain matrix vector multiplication  Each frame should be a single animation point, such as visualizing squaring number visually or adding a vector tip to tail. It should not take longer than 15 seconds.\\n\\nFor example, explaining a vector addition would be:\\n1. Frame showing 2 vectors from the origin explaining that these can be any arbitary vector\\n2. Moving the second vector to the tip of the first vector and draw a resulting vector\\n3. Showing vector addition numerically, adding each component numerically\\n4. Explain a simple practical example of vector addition, how 2 forces can combine togehter into a larger force.\\n\\nDo not include a frame for a quiz. \\n\\nEach frame should come with a short description of what it will talk about. This is meant to be the storyboard for an animated video explaining this concept. \\n\\nFormat the frames in a json format: \\n\\n[\\n{\\n\"title\": \"xxxx\",\\n\"description\": \"xxxx\"\\n},\\n]\\n\\nThe title should be short, limit of 5 words\\nThe description should be a few sentences, enough for someone to understand what to do and how to animate and explain this frame.\\n\\nOutput only the json format of the frames. DO NOT INCUDE A PREABMBLE OR POSTAMBLE. [/INST]\\n'],\n",
       " 'model': 'mistralai/Mixtral-8x7B-Instruct-v0.1',\n",
       " 'model_owner': '',\n",
       " 'num_returns': 1,\n",
       " 'args': {'model': 'mistralai/Mixtral-8x7B-Instruct-v0.1',\n",
       "  'prompt': '<s> [INST] For an audience of a high school student, generate a series of frames to explain matrix vector multiplication  Each frame should be a single animation point, such as visualizing squaring number visually or adding a vector tip to tail. It should not take longer than 15 seconds.\\n\\nFor example, explaining a vector addition would be:\\n1. Frame showing 2 vectors from the origin explaining that these can be any arbitary vector\\n2. Moving the second vector to the tip of the first vector and draw a resulting vector\\n3. Showing vector addition numerically, adding each component numerically\\n4. Explain a simple practical example of vector addition, how 2 forces can combine togehter into a larger force.\\n\\nDo not include a frame for a quiz. \\n\\nEach frame should come with a short description of what it will talk about. This is meant to be the storyboard for an animated video explaining this concept. \\n\\nFormat the frames in a json format: \\n\\n[\\n{\\n\"title\": \"xxxx\",\\n\"description\": \"xxxx\"\\n},\\n]\\n\\nThe title should be short, limit of 5 words\\nThe description should be a few sentences, enough for someone to understand what to do and how to animate and explain this frame.\\n\\nOutput only the json format of the frames. DO NOT INCUDE A PREABMBLE OR POSTAMBLE. [/INST]\\n',\n",
       "  'top_p': 0.5,\n",
       "  'top_k': 50,\n",
       "  'temperature': 0.7,\n",
       "  'max_tokens': 2048,\n",
       "  'stop': ['</s>'],\n",
       "  'repetition_penalty': 1,\n",
       "  'logprobs': None,\n",
       "  'safety_model': None},\n",
       " 'subjobs': [],\n",
       " 'output': {'finish_reason': 'eos_token',\n",
       "  'usage': {'prompt_tokens': 317,\n",
       "   'completion_tokens': 370,\n",
       "   'total_tokens': 687},\n",
       "  'result_type': 'language-model-inference',\n",
       "  'choices': [{'text': '[\\n{\\n\"title\": \"Two Matrices\",\\n\"description\": \"Show two matrices, A and v, with appropriate dimensions for multiplication. Matrix A has m rows and n columns, and matrix v has n rows and 1 column. Label the matrices and their dimensions.\"\\n},\\n{\\n\"title\": \"Multiply Row 1\",\\n\"description\": \"Pick the first row of matrix A and multiply each element by the corresponding element in the first column of matrix v. Display the results below the original elements. Sum the results to get the first element of the resulting vector.\"\\n},\\n{\\n\"title\": \"Multiply Row 2\",\\n\"description\": \"Similar to the previous frame, multiply the second row of matrix A with the elements of the first column of matrix v. Sum the results to get the second element of the resulting vector. Continue this process for all rows of matrix A.\"\\n},\\n{\\n\"title\": \"Resulting Vector\",\\n\"description\": \"Stack the resulting elements from the previous frames to form the final resulting vector. Display the vector as a single entity, and label it as Av.\"\\n},\\n{\\n\"title\": \"Numerical Example\",\\n\"description\": \"Provide a simple numerical example of matrix-vector multiplication, such as multiplying a 2x2 matrix with a 2x1 matrix. Show each step of the process and the final resulting vector.\"\\n},\\n{\\n\"title\": \"Practical Example\",\\n\"description\": \"Explain a practical example of matrix-vector multiplication, such as calculating the displacement of an object undergoing multiple forces. Display the matrices representing the forces and the resulting displacement vector.\"\\n}\\n]',\n",
       "    'finish_reason': 'eos'}],\n",
       "  'prompt': [{'text': '<s> [INST] For an audience of a high school student, generate a series of frames to explain matrix vector multiplication  Each frame should be a single animation point, such as visualizing squaring number visually or adding a vector tip to tail. It should not take longer than 15 seconds.\\n\\nFor example, explaining a vector addition would be:\\n1. Frame showing 2 vectors from the origin explaining that these can be any arbitary vector\\n2. Moving the second vector to the tip of the first vector and draw a resulting vector\\n3. Showing vector addition numerically, adding each component numerically\\n4. Explain a simple practical example of vector addition, how 2 forces can combine togehter into a larger force.\\n\\nDo not include a frame for a quiz. \\n\\nEach frame should come with a short description of what it will talk about. This is meant to be the storyboard for an animated video explaining this concept. \\n\\nFormat the frames in a json format: \\n\\n[\\n{\\n\"title\": \"xxxx\",\\n\"description\": \"xxxx\"\\n},\\n]\\n\\nThe title should be short, limit of 5 words\\nThe description should be a few sentences, enough for someone to understand what to do and how to animate and explain this frame.\\n\\nOutput only the json format of the frames. DO NOT INCUDE A PREABMBLE OR POSTAMBLE. [/INST]\\n',\n",
       "    'tokens': [],\n",
       "    'token_logprobs': []}]}}"
      ]
     },
     "execution_count": 55,
     "metadata": {},
     "output_type": "execute_result"
    }
   ],
   "source": [
    "output"
   ]
  },
  {
   "cell_type": "code",
   "execution_count": 82,
   "metadata": {},
   "outputs": [
    {
     "name": "stdout",
     "output_type": "stream",
     "text": [
      "[  {  'description': 'Show two matrices, A and v, with arbitrary values. '\n",
      "                     'Matrix A has dimensions m x n, and v is a column vector '\n",
      "                     'with dimensions n x 1.',\n",
      "      'title': 'Two Matrices'},\n",
      "   {  'description': 'For each row i in matrix A, multiply the entries with '\n",
      "                     'the corresponding entries in vector v, then sum the '\n",
      "                     'results. Display these calculations as a visual '\n",
      "                     'representation of matrix multiplication.',\n",
      "      'title': 'Multiply Entries'},\n",
      "   {  'description': 'Display the resulting vector, which has dimensions m x '\n",
      "                     '1, by combining the results from the previous step. This '\n",
      "                     'new vector is the product of matrix A and vector v.',\n",
      "      'title': 'Resulting Vector'},\n",
      "   {  'description': 'Provide a simple numerical example of matrix vector '\n",
      "                     'multiplication, such as multiplying a 2x2 matrix with a '\n",
      "                     '2x1 vector. Show the calculations step-by-step and '\n",
      "                     'highlight the final result.',\n",
      "      'title': 'Numerical Example'},\n",
      "   {  'description': 'Explain a real-world example of matrix vector '\n",
      "                     'multiplication, such as calculating the new position of '\n",
      "                     'an object after applying multiple forces. Show the '\n",
      "                     'matrices and vectors involved and how they combine to '\n",
      "                     'produce the final result.',\n",
      "      'title': 'Real-World Example'}]\n"
     ]
    }
   ],
   "source": [
    "data = json.loads(output[\"output\"][\"choices\"][0][\"text\"])\n",
    "pprint(data)"
   ]
  },
  {
   "cell_type": "code",
   "execution_count": 83,
   "metadata": {},
   "outputs": [
    {
     "name": "stdout",
     "output_type": "stream",
     "text": [
      "('[INST]Given the following, generate a script and animation description in '\n",
      " 'the style of 3Blue1Brown.\\n'\n",
      " '\\n'\n",
      " 'Show two matrices, A and v, with arbitrary values. Matrix A has dimensions m '\n",
      " 'x n, and v is a column vector with dimensions n x 1.\\n'\n",
      " '\\n'\n",
      " 'The script will be read orally to the student. This should not take longer '\n",
      " 'than 10-15 seconds.\\n'\n",
      " 'The animation description should be descriptive of what should be shown on '\n",
      " 'the screen along with relevant positional information. (ie. The number line '\n",
      " 'should be centered vertically on the screen with a from a range of -10 to 10 '\n",
      " 'with ticks for every 0.2, there is a blow arrow above the number line '\n",
      " 'pointing from 0 to +5. The arrow will then shrink until it points to +2)\\n'\n",
      " '\\n'\n",
      " 'Return the data in the following format:\\n'\n",
      " '\\n'\n",
      " '{\\n'\n",
      " '\"narration\" : \"XXXX\",\\n'\n",
      " '\"animation-description\": \"XXXX\",\\n'\n",
      " '},\\n'\n",
      " '[/INST]\\n')\n"
     ]
    }
   ],
   "source": [
    "scene_agent_prompt = \"\"\"[INST]Given the following, generate a script and animation description in the style of 3Blue1Brown.\n",
    "\n",
    "{}\n",
    "\n",
    "The script will be read orally to the student. This should not take longer than 10-15 seconds.\n",
    "The animation description should be descriptive of what should be shown on the screen along with relevant positional information. (ie. The number line should be centered vertically on the screen with a from a range of -10 to 10 with ticks for every 0.2, there is a blow arrow above the number line pointing from 0 to +5. The arrow will then shrink until it points to +2)\n",
    "\n",
    "Return the data in the following format:\n",
    "\n",
    "{{\n",
    "\"narration\" : \"XXXX\",\n",
    "\"animation-description\": \"XXXX\",\n",
    "}},\n",
    "[/INST]\n",
    "\"\"\"\n",
    "\n",
    "scene_agent_prompt = scene_agent_prompt.format(data[0][\"description\"])\n",
    "pprint(scene_agent_prompt)"
   ]
  },
  {
   "cell_type": "code",
   "execution_count": 84,
   "metadata": {},
   "outputs": [],
   "source": [
    "MODEL_ARGS = {\n",
    "    \"model\": \"mistralai/Mixtral-8x7B-Instruct-v0.1\",\n",
    "    \"max_tokens\": 2048,\n",
    "    \"temperature\": 0.7,\n",
    "    \"top_p\": 0.5,\n",
    "    \"top_k\": 50,\n",
    "    \"repetition_penalty\": 1.0,\n",
    "    \"stop\": [\"</s>\", \"[/INST]\"],\n",
    "}"
   ]
  },
  {
   "cell_type": "code",
   "execution_count": 85,
   "metadata": {},
   "outputs": [],
   "source": [
    "output = together.Complete.create(\n",
    "    prompt=scene_agent_prompt,\n",
    "    **MODEL_ARGS,\n",
    ")"
   ]
  },
  {
   "cell_type": "code",
   "execution_count": 86,
   "metadata": {},
   "outputs": [],
   "source": [
    "data = json.loads((output[\"output\"][\"choices\"][0][\"text\"]))"
   ]
  },
  {
   "cell_type": "code",
   "execution_count": 87,
   "metadata": {},
   "outputs": [
    {
     "name": "stdout",
     "output_type": "stream",
     "text": [
      "{'narration': \"Let's consider two matrices, A and v. Matrix A has dimensions m by n, and v is a column vector with dimensions n by 1.\", 'animation-description': 'Two matrices, A and v, are displayed on the screen. Matrix A has a light blue background and is larger than matrix v. Matrix A has dimensions m by n, with m rows and n columns. The entries of A are arbitrary values. Matrix v, on the other hand, has a dark blue background and is a column vector, with dimensions n by 1. The entries of v are also arbitrary values. The position of A is at the top left corner of the screen, while matrix v is positioned at the bottom right corner of the screen.'}\n"
     ]
    }
   ],
   "source": [
    "print(data)"
   ]
  },
  {
   "cell_type": "code",
   "execution_count": 52,
   "metadata": {},
   "outputs": [],
   "source": [
    "scene = {\n",
    "    \"narration\": \"Here's a right triangle with sides of length a and b, and hypotenuse c. Let's label the squares of the sides and hypotenuse.\",\n",
    "    \"animation_description\": \"Show a right triangle with sides labeled 'a' and 'b', and hypotenuse labeled 'c'. Add labels for the squares of the sides and hypotenuse, with the square of 'a' below the triangle, the square of 'b' to the right of the triangle, and the square of 'c' above and to the right of the triangle.\",\n",
    "}"
   ]
  },
  {
   "cell_type": "code",
   "execution_count": 74,
   "metadata": {},
   "outputs": [
    {
     "name": "stdout",
     "output_type": "stream",
     "text": [
      "[INST]1. Given the scene description, sketch manim code for this scene in 3blue1brown style.\n",
      "2. Make sure that the any LaTeX equations are rendered correctly.\n",
      "3. Make sure that the font_size is small (< 25pt).\n",
      "4. Make sure no manim objects have the same y coordinate to ensure no overlapping.\n",
      "5. Make sure any text, diagrams or formulas fit fully on the screen. Make them smaller.\n",
      "6. Make the sure any text displayed on a screen is concise by limiting to 10 words per line.\n",
      "7. Make sure that the mathematics is consistent with the narration.\n",
      "8. Make sure that all visualizations are coherent and has a mathematical basis.\n",
      "9. Write the whole code in one chunk at every code generation stage.\n",
      "11. You are allowed to import manim, import numpy as np.\n",
      "12. DO NOT USE COLOR. KEEP DEFAULT COLORS.\n",
      "13. DO NOT INCLUDE ANY OUTSIDE GRAPHICS OR IMAGES. ONLY USE MANIM.\n",
      "14. Only include the manim code for the scene. DO NOT INCLUDE A PREABMBLE OR POSTAMBLE.\n",
      "\n",
      "Two matrices are displayed on the screen. The first matrix, A, is labeled in the top left corner with the dimensions 'm x n'. It has m rows and n columns. The second matrix, v, is labeled in the top right corner with the dimensions 'n x 1'. It has n rows and 1 column. The matrices are placed side by side, taking up approximately two-thirds of the screen width. The remaining third of the screen width is left blank for text overlay.\n",
      "\n"
     ]
    }
   ],
   "source": [
    "anim_prompt = \"\"\"[INST]1. Given the scene description, sketch manim code for this scene in 3blue1brown style.\n",
    "2. Make sure that the any LaTeX equations are rendered correctly.\n",
    "3. Make sure that the font_size is small (< 25pt).\n",
    "4. Make sure no manim objects have the same y coordinate to ensure no overlapping.\n",
    "5. Make sure any text, diagrams or formulas fit fully on the screen. Make them smaller.\n",
    "6. Make the sure any text displayed on a screen is concise by limiting to 10 words per line.\n",
    "7. Make sure that the mathematics is consistent with the narration.\n",
    "8. Make sure that all visualizations are coherent and has a mathematical basis.\n",
    "9. Write the whole code in one chunk at every code generation stage.\n",
    "11. You are allowed to import manim, import numpy as np.\n",
    "12. DO NOT USE COLOR. KEEP DEFAULT COLORS.\n",
    "13. DO NOT INCLUDE ANY OUTSIDE GRAPHICS OR IMAGES. ONLY USE MANIM.\n",
    "14. Only include the manim code for the scene. DO NOT INCLUDE A PREABMBLE OR POSTAMBLE.\n",
    "\n",
    "{}\n",
    "\n",
    "[/INST]\n",
    "\"\"\"\n",
    "formatted = anim_prompt.format(data[\"animation-description\"])\n",
    "print(formatted)"
   ]
  },
  {
   "cell_type": "code",
   "execution_count": 77,
   "metadata": {},
   "outputs": [
    {
     "name": "stdout",
     "output_type": "stream",
     "text": [
      "\n",
      "The matrices are populated with random integers from -10 to 10. The values in the matrices are displayed in a smaller font size (< 25pt) to ensure that they fit fully on the screen.\n",
      "\n",
      "The text overlay on the right side of the screen reads: 'Matrix-vector multiplication'. The text is displayed in a smaller font size (< 25pt) to ensure that it fits fully on the screen.\n",
      "\n",
      "The narration for the scene is: 'Consider two matrices, A and v. Matrix A has dimensions m x n, and matrix v has dimensions n x 1. We can perform matrix-vector multiplication by taking the dot product of each row in matrix A with the column in matrix v, resulting in a new vector with dimensions m x 1. Let's walk through an example of this process.'\n",
      "\n",
      "The scene should end with the text overlay and no additional objects.'\n",
      "\n",
      "```\n",
      "from manim import *\n",
      "import numpy as np\n",
      "\n",
      "class MatrixVectorMultiplication(Scene):\n",
      "    def construct(self):\n",
      "        m = 3\n",
      "        n = 2\n",
      "\n",
      "        A = Matrix([\n",
      "            [random.randint(-10, 10) for j in range(n)] for i in range(m)\n",
      "        ])\n",
      "        A.set_column_widths(0.5)\n",
      "        A.set_row_heights(0.5)\n",
      "        A.add_background_rectangle()\n",
      "        A_label = Tex('A', font_size=20).next_to(A, UP+LEFT)\n",
      "        A_dims = Tex(f'{m} x {n}', font_size=15).next_to(A_label, DOWN+LEFT)\n",
      "\n",
      "        v = Matrix([\n",
      "            [random.randint(-10, 10)] for i in range(n)\n",
      "        ])\n",
      "        v.set_column_widths(0.5)\n",
      "        v.set_row_heights(0.5)\n",
      "        v.add_background_rectangle()\n",
      "        v_label = Tex('v', font_size=20).next_to(v, UP+RIGHT)\n",
      "        v_dims = Tex(f'{n} x 1', font_size=15).next_to(v_label, DOWN+RIGHT)\n",
      "\n",
      "        text = Tex('Matrix-vector multiplication', font_size=20).to_edge(RIGHT)\n",
      "\n",
      "        self.play(\n",
      "            Write(A),\n",
      "            Write(A_label),\n",
      "            Write(A_dims),\n",
      "            Write(v),\n",
      "            Write(v_label),\n",
      "            Write(v_dims),\n",
      "            Write(text)\n",
      "        )\n",
      "\n",
      "        self.wait(1)\n",
      "\n",
      "        self.play(\n",
      "            FadeOut(A_dims),\n",
      "            FadeOut(v_dims),\n",
      "            FadeOut(A_label),\n",
      "            FadeOut(v_label)\n",
      "        )\n",
      "\n",
      "        self.wait(1)\n",
      "\n",
      "        self.play(\n",
      "            FadeOut(A),\n",
      "            FadeOut(v),\n",
      "            FadeOut(text)\n",
      "        )\n",
      "```\n",
      "\n",
      "Note: This code is written in Manim Community Edition (Manim CE), which is a fork of Manim, the open-source animation library used by 3Blue1Brown. Manim CE is not fully compatible with Manim, but it is constantly being updated to improve compatibility. This code should work in both Manim CE and Manim, but there may be some minor differences in the output.\n"
     ]
    }
   ],
   "source": [
    "output = together.Complete.create(\n",
    "    prompt=formatted,\n",
    "    **MODEL_ARGS,\n",
    ")\n",
    "print(output[\"output\"][\"choices\"][0][\"text\"])"
   ]
  }
 ],
 "metadata": {
  "kernelspec": {
   "display_name": ".venv",
   "language": "python",
   "name": "python3"
  },
  "language_info": {
   "codemirror_mode": {
    "name": "ipython",
    "version": 3
   },
   "file_extension": ".py",
   "mimetype": "text/x-python",
   "name": "python",
   "nbconvert_exporter": "python",
   "pygments_lexer": "ipython3",
   "version": "3.9.6"
  }
 },
 "nbformat": 4,
 "nbformat_minor": 2
}
